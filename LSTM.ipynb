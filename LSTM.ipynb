{
 "cells": [
  {
   "cell_type": "code",
   "execution_count": 4,
   "id": "003cfd20-2714-459c-b259-749d0574912e",
   "metadata": {},
   "outputs": [],
   "source": [
    "import pandas as pd\n",
    "import numpy as np\n",
    "from sklearn.preprocessing import MinMaxScaler\n",
    "from sklearn.model_selection import train_test_split\n",
    "import torch\n",
    "import torch.nn as nn\n",
    "import torch.optim as optim\n",
    "from torch.utils.data import TensorDataset, DataLoader\n",
    "import matplotlib.pyplot as plt\n",
    "import influxdb_client\n",
    "from influxdb_client.client.write_api import SYNCHRONOUS"
   ]
  },
  {
   "cell_type": "code",
   "execution_count": 27,
   "id": "8b8c2aaf-dc84-4bd3-a5f3-a18885182f64",
   "metadata": {},
   "outputs": [],
   "source": [
    "# InfluxDB에서 데이터 로드 및 전처리 함수\n",
    "def load_and_preprocess_data():\n",
    "    # InfluxDB 연결 설정\n",
    "    bucket = \"elec\"\n",
    "    org = \"ATG\"\n",
    "    token = \"-Csx0nZp8yGSI5XlE6uVntoDntjN2j8-BXKr9FNuXfEHPINLioLag6nYUSPqmEu1-oTo_Q59ElgTsNH-TNwdnA==\"\n",
    "    url = \"http://localhost:8086\"\n",
    "    client = influxdb_client.InfluxDBClient(url=url, token=token, org=org)\n",
    "    query_api = client.query_api()\n",
    "\n",
    "    # 데이터 쿼리 (1시간 간격으로 리샘플링)\n",
    "    query = '''\n",
    "    from(bucket: \"electricity\")\n",
    "      |> range(start: 2012-04-01T00:00:00Z, stop: 2013-04-01T00:00:00Z)\n",
    "      |> filter(fn: (r) => r[\"_measurement\"] == \"Electricity_B2E.csv_measurements\")\n",
    "      |> filter(fn: (r) => r[\"_field\"] == \"active_power\" or r[\"_field\"] == \"apparent_power\" or r[\"_field\"] == \"reactive_power\")\n",
    "      |> aggregateWindow(every: 10m, fn: mean, createEmpty: false)\n",
    "      |> pivot(rowKey:[\"_time\"], columnKey: [\"_field\"], valueColumn: \"_value\")\n",
    "    '''\n",
    "    result = query_api.query_data_frame(query=query, org=org)\n",
    "\n",
    "    # 결과를 pandas DataFrame으로 변환\n",
    "    df = result.set_index('_time')\n",
    "    df = df[['active_power', 'reactive_power']]\n",
    "    df.columns = ['P', 'Q']  # 열 이름 변경\n",
    "\n",
    "    return df"
   ]
  },
  {
   "cell_type": "code",
   "execution_count": 10,
   "id": "becd13f3-b4c3-448e-abad-6d6c14ecf284",
   "metadata": {},
   "outputs": [],
   "source": [
    "# 시퀀스 데이터 생성 함수 (배치 처리)\n",
    "def create_sequences(data, seq_length, batch_size=1000):\n",
    "    n_samples = len(data) - seq_length\n",
    "    for start_idx in range(0, n_samples, batch_size):\n",
    "        end_idx = min(start_idx + batch_size, n_samples)\n",
    "        X = np.array([data[i:i+seq_length] for i in range(start_idx, end_idx)])\n",
    "        y = np.array([data[i+seq_length] for i in range(start_idx, end_idx)])\n",
    "        yield X, y"
   ]
  },
  {
   "cell_type": "code",
   "execution_count": 12,
   "id": "977ae849-4de6-480e-a2aa-cd49c2adc111",
   "metadata": {},
   "outputs": [],
   "source": [
    "# 데이터 스케일링 함수\n",
    "def scale_data(data):\n",
    "    scaler = MinMaxScaler()\n",
    "    scaled_data = scaler.fit_transform(data)\n",
    "    return scaled_data, scaler"
   ]
  },
  {
   "cell_type": "code",
   "execution_count": 14,
   "id": "c4c5e9f9-9397-4987-8db8-3005d09ae910",
   "metadata": {},
   "outputs": [],
   "source": [
    "# LSTM 모델 정의\n",
    "class LSTMModel(nn.Module):\n",
    "    def __init__(self, input_size, hidden_size, num_layers, output_size):\n",
    "        super(LSTMModel, self).__init__()\n",
    "        self.hidden_size = hidden_size\n",
    "        self.num_layers = num_layers\n",
    "        self.lstm = nn.LSTM(input_size, hidden_size, num_layers, batch_first=True)\n",
    "        self.fc = nn.Linear(hidden_size, output_size)\n",
    "\n",
    "    def forward(self, x):\n",
    "        h0 = torch.zeros(self.num_layers, x.size(0), self.hidden_size).to(x.device)\n",
    "        c0 = torch.zeros(self.num_layers, x.size(0), self.hidden_size).to(x.device)\n",
    "        out, _ = self.lstm(x, (h0, c0))\n",
    "        out = self.fc(out[:, -1, :])\n",
    "        return out"
   ]
  },
  {
   "cell_type": "code",
   "execution_count": 16,
   "id": "57852562-7528-413f-9046-771403a00714",
   "metadata": {},
   "outputs": [],
   "source": [
    "# 모델 학습 함수\n",
    "def train_model(model, train_data, val_data, criterion, optimizer, num_epochs, seq_length, batch_size):\n",
    "    for epoch in range(num_epochs):\n",
    "        model.train()\n",
    "        train_loss = 0\n",
    "        for X_batch, y_batch in create_sequences(train_data, seq_length, batch_size):\n",
    "            X_batch = torch.FloatTensor(X_batch)\n",
    "            y_batch = torch.FloatTensor(y_batch)\n",
    "            optimizer.zero_grad()\n",
    "            outputs = model(X_batch)\n",
    "            loss = criterion(outputs, y_batch)\n",
    "            loss.backward()\n",
    "            optimizer.step()\n",
    "            train_loss += loss.item()\n",
    "\n",
    "        model.eval()\n",
    "        val_loss = 0\n",
    "        with torch.no_grad():\n",
    "            for X_batch, y_batch in create_sequences(val_data, seq_length, batch_size):\n",
    "                X_batch = torch.FloatTensor(X_batch)\n",
    "                y_batch = torch.FloatTensor(y_batch)\n",
    "                outputs = model(X_batch)\n",
    "                val_loss += criterion(outputs, y_batch).item()\n",
    "\n",
    "        print(f'Epoch [{epoch+1}/{num_epochs}], Train Loss: {train_loss:.4f}, Val Loss: {val_loss:.4f}')"
   ]
  },
  {
   "cell_type": "code",
   "execution_count": 18,
   "id": "95bed9ce-5724-48ce-8371-a1abc655e3ba",
   "metadata": {},
   "outputs": [],
   "source": [
    "# 예측 함수\n",
    "def predict(model, data, seq_length, scaler):\n",
    "    model.eval()\n",
    "    predictions = []\n",
    "    with torch.no_grad():\n",
    "        for i in range(30 * 24):  # 30일 * 24시간\n",
    "            seq = torch.FloatTensor(data[i:i+seq_length]).unsqueeze(0)\n",
    "            pred = model(seq)\n",
    "            predictions.append(pred.squeeze().numpy())\n",
    "    return scaler.inverse_transform(np.array(predictions))"
   ]
  },
  {
   "cell_type": "code",
   "execution_count": 29,
   "id": "12e09d67-494c-40c3-b033-cd37cdd171b1",
   "metadata": {},
   "outputs": [],
   "source": [
    "# 데이터 로드 및 전처리\n",
    "df = load_and_preprocess_data()\n",
    "\n",
    "# 데이터 스케일링\n",
    "scaled_data, scaler = scale_data(df.values)\n",
    "\n",
    "# 데이터 분할 (64% 학습, 16% 검증, 20% 테스트)\n",
    "train_size = int(0.64 * len(scaled_data))\n",
    "val_size = int(0.16 * len(scaled_data))\n",
    "train_data = scaled_data[:train_size]\n",
    "val_data = scaled_data[train_size:train_size+val_size]\n",
    "test_data = scaled_data[train_size+val_size:]\n",
    "\n",
    "# 모델, 손실 함수, 옵티마이저 정의\n",
    "input_size = df.shape[1]\n",
    "hidden_size = 50\n",
    "num_layers = 2\n",
    "output_size = df.shape[1]\n",
    "model = LSTMModel(input_size, hidden_size, num_layers, output_size)\n",
    "criterion = nn.MSELoss()\n",
    "optimizer = optim.Adam(model.parameters(), lr=0.001)\n",
    "### drop out\n",
    "# 하이퍼파라미터 설정\n",
    "seq_length = 7 * 24  # 1주일 (7일 * 24시간)\n",
    "batch_size = 64\n",
    "num_epochs = 50"
   ]
  },
  {
   "cell_type": "code",
   "execution_count": null,
   "id": "802b30fa-02fc-4d04-b4a8-f0385f70f574",
   "metadata": {},
   "outputs": [
    {
     "name": "stdout",
     "output_type": "stream",
     "text": [
      "Epoch [1/50], Train Loss: 0.3605, Val Loss: 0.1634\n"
     ]
    }
   ],
   "source": [
    "# 모델 학습\n",
    "train_model(model, train_data, val_data, criterion, optimizer, num_epochs, seq_length, batch_size)\n",
    "\n",
    "# 1개월치 예측\n",
    "predictions = predict(model, test_data, seq_length, scaler)"
   ]
  },
  {
   "cell_type": "code",
   "execution_count": 6,
   "id": "899dee31-f5ed-41c8-8f9b-a68407c45082",
   "metadata": {},
   "outputs": [
    {
     "ename": "NameError",
     "evalue": "name 'predictions' is not defined",
     "output_type": "error",
     "traceback": [
      "\u001b[1;31m---------------------------------------------------------------------------\u001b[0m",
      "\u001b[1;31mNameError\u001b[0m                                 Traceback (most recent call last)",
      "Cell \u001b[1;32mIn[6], line 3\u001b[0m\n\u001b[0;32m      1\u001b[0m \u001b[38;5;66;03m# 결과 시각화\u001b[39;00m\n\u001b[0;32m      2\u001b[0m plt\u001b[38;5;241m.\u001b[39mfigure(figsize\u001b[38;5;241m=\u001b[39m(\u001b[38;5;241m15\u001b[39m, \u001b[38;5;241m5\u001b[39m))\n\u001b[1;32m----> 3\u001b[0m plt\u001b[38;5;241m.\u001b[39mplot(predictions[:, \u001b[38;5;241m0\u001b[39m], label\u001b[38;5;241m=\u001b[39m\u001b[38;5;124m'\u001b[39m\u001b[38;5;124mPredicted Active Power\u001b[39m\u001b[38;5;124m'\u001b[39m)\n\u001b[0;32m      4\u001b[0m plt\u001b[38;5;241m.\u001b[39mplot(predictions[:, \u001b[38;5;241m1\u001b[39m], label\u001b[38;5;241m=\u001b[39m\u001b[38;5;124m'\u001b[39m\u001b[38;5;124mPredicted Reactive Power\u001b[39m\u001b[38;5;124m'\u001b[39m)\n\u001b[0;32m      5\u001b[0m plt\u001b[38;5;241m.\u001b[39mplot(predictions[:, \u001b[38;5;241m2\u001b[39m], label\u001b[38;5;241m=\u001b[39m\u001b[38;5;124m'\u001b[39m\u001b[38;5;124mPredicted Apparent Power\u001b[39m\u001b[38;5;124m'\u001b[39m)\n",
      "\u001b[1;31mNameError\u001b[0m: name 'predictions' is not defined"
     ]
    },
    {
     "data": {
      "text/plain": [
       "<Figure size 1500x500 with 0 Axes>"
      ]
     },
     "metadata": {},
     "output_type": "display_data"
    }
   ],
   "source": [
    "# 결과 시각화\n",
    "plt.figure(figsize=(15, 5))\n",
    "plt.plot(predictions[:, 0], label='Predicted Active Power')\n",
    "plt.plot(predictions[:, 1], label='Predicted Reactive Power')\n",
    "plt.plot(predictions[:, 2], label='Predicted Apparent Power')\n",
    "plt.plot(scaled_data[:, 0], label='Predicted Active Power')\n",
    "plt.plot(scaled_data[:, 1], label='Predicted Reactive Power')\n",
    "plt.plot(scaled_data[:, 2], label='Predicted Apparent Power')\n",
    "plt.legend()\n",
    "plt.title('1 Month Power Prediction')\n",
    "plt.xlabel('Time (hours)')\n",
    "plt.ylabel('Power')\n",
    "plt.show()"
   ]
  },
  {
   "cell_type": "code",
   "execution_count": 11,
   "id": "0e09f34e-81d1-406a-a50e-75746b9e5bd4",
   "metadata": {},
   "outputs": [],
   "source": [
    "## MSE 비교 코드 추가하기\n",
    "model.save()"
   ]
  },
  {
   "cell_type": "code",
   "execution_count": null,
   "id": "ae84128c-91c9-4cff-a27f-425d9e75d3ff",
   "metadata": {},
   "outputs": [],
   "source": []
  }
 ],
 "metadata": {
  "kernelspec": {
   "display_name": "Python 3 (ipykernel)",
   "language": "python",
   "name": "python3"
  },
  "language_info": {
   "codemirror_mode": {
    "name": "ipython",
    "version": 3
   },
   "file_extension": ".py",
   "mimetype": "text/x-python",
   "name": "python",
   "nbconvert_exporter": "python",
   "pygments_lexer": "ipython3",
   "version": "3.12.4"
  }
 },
 "nbformat": 4,
 "nbformat_minor": 5
}
